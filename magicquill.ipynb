{
  "nbformat": 4,
  "nbformat_minor": 0,
  "metadata": {
    "colab": {
      "provenance": []
    },
    "kernelspec": {
      "name": "python3",
      "display_name": "Python 3"
    },
    "language_info": {
      "name": "python"
    }
  },
  "cells": [
    {
      "cell_type": "code",
      "execution_count": null,
      "metadata": {
        "id": "t5nF2Kor0ahx"
      },
      "outputs": [],
      "source": [
        "!git clone --recursive https://github.com/magic-quill/MagicQuill.git\n",
        "%cd MagicQuill"
      ]
    },
    {
      "cell_type": "code",
      "source": [
        "!wget -O models.zip \"https://hkustconnect-my.sharepoint.com/:u:/g/personal/zliucz_connect_ust_hk/EWlGF0WfawJIrJ1Hn85_-3gB0MtwImAnYeWXuleVQcukMg?e=Gcjugg&download=1\"\n",
        "!unzip models.zip"
      ],
      "metadata": {
        "id": "Vbldyi8H0g1N"
      },
      "execution_count": null,
      "outputs": []
    },
    {
      "cell_type": "code",
      "source": [
        "!pip install torch==2.1.2 torchvision==0.16.2 torchaudio==2.1.2 --index-url https://download.pytorch.org/whl/cu118"
      ],
      "metadata": {
        "id": "SnFB-NGG07GL"
      },
      "execution_count": null,
      "outputs": []
    },
    {
      "cell_type": "code",
      "source": [
        "!pip install gradio_magicquill-0.0.1-py3-none-any.whl"
      ],
      "metadata": {
        "id": "6SoN2PkM1AgL"
      },
      "execution_count": null,
      "outputs": []
    },
    {
      "cell_type": "code",
      "source": [
        "!pip install -r requirements.txt"
      ],
      "metadata": {
        "id": "17EQCaeQ1OGz"
      },
      "execution_count": null,
      "outputs": []
    },
    {
      "cell_type": "code",
      "source": [
        "!python gradio_run.py"
      ],
      "metadata": {
        "id": "JZN2kg3C1Spr"
      },
      "execution_count": null,
      "outputs": []
    }
  ]
}