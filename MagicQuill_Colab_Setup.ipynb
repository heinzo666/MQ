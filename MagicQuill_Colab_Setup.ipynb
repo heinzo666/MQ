{
  "cells": [
    {
      "cell_type": "markdown",
      "metadata": {},
      "source": [
        "# 🪄 MagicQuill Setup on Google Colab\n",
        "This notebook sets up and runs the [MagicQuill](https://github.com/magic-quill/MagicQuill) project on Google Colab.\n",
        "\n",
        "⚠️ GPU is recommended. Make sure to enable it under `Runtime > Change runtime type > GPU`."
      ]
    },
    {
      "cell_type": "code",
      "execution_count": null,
      "metadata": {},
      "outputs": [],
      "source": [
        "# 📥 Clone the repository with submodules\n",
        "!git clone --recursive https://github.com/magic-quill/MagicQuill.git\n",
        "%cd MagicQuill"
      ]
    },
    {
      "cell_type": "code",
      "execution_count": null,
      "metadata": {},
      "outputs": [],
      "source": [
        "# 📦 Download the pre-trained models\n",
        "!wget -O models.zip \"https://hkustconnect-my.sharepoint.com/:u:/g/personal/zliucz_connect_ust_hk/EWlGF0WfawJIrJ1Hn85_-3gB0MtwImAnYeWXuleVQcukMg?e=Gcjugg&download=1\"\n",
        "!unzip models.zip"
      ]
    },
    {
      "cell_type": "code",
      "execution_count": null,
      "metadata": {},
      "outputs": [],
      "source": [
        "# 🔧 Install PyTorch with CUDA 11.8 (GPU support)\n",
        "!pip install torch==2.1.2 torchvision==0.16.2 torchaudio==2.1.2 --index-url https://download.pytorch.org/whl/cu118"
      ]
    },
    {
      "cell_type": "code",
      "execution_count": null,
      "metadata": {},
      "outputs": [],
      "source": [
        "# 📦 Install the MagicQuill Gradio wheel\n",
        "!pip install gradio_magicquill-0.0.1-py3-none-any.whl"
      ]
    },
    {
      "cell_type": "code",
      "execution_count": null,
      "metadata": {},
      "outputs": [],
      "source": [
        "# 🛠️ Set up the LLaVA module\n",
        "!cp -f pyproject.toml MagicQuill/LLaVA/\n",
        "!pip install -e MagicQuill/LLaVA/"
      ]
    },
    {
      "cell_type": "code",
      "execution_count": null,
      "metadata": {},
      "outputs": [],
      "source": [
        "# 📋 Install the remaining dependencies\n",
        "!pip install -r requirements.txt\n",
        "!pip uninstall numpy -y\n",
        "!pip install numpy==1.26.4"
      ]
    },
    {
      "cell_type": "code",
      "execution_count": null,
      "metadata": {},
      "outputs": [],
      "source": [
        "# 🚀 Launch the Gradio interface\n",
        "!python gradio_run.py"
      ]
    }
  ],
  "metadata": {
    "kernelspec": {
      "display_name": "Python 3",
      "language": "python",
      "name": "python3"
    },
    "language_info": {
      "name": "python",
      "version": "3.10"
    }
  },
  "nbformat": 4,
  "nbformat_minor": 5
}
